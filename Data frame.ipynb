{
 "cells": [
  {
   "cell_type": "code",
   "execution_count": 5,
   "id": "0661a569",
   "metadata": {},
   "outputs": [],
   "source": [
    "# Import necessary libraries\n",
    "import pandas as pd\n",
    "import numpy as np\n",
    "\n",
    "# Sample DataFrame with missing values\n",
    "data = {\n",
    "    'Name': ['Alice', 'Bob', 'Charlie', 'David', 'Edward'],\n",
    "    'Age': [25, np.nan, 35, 45, np.nan],\n",
    "    'Salary': [50000, 60000, np.nan, 80000, 120000],\n",
    "    'Gender': ['Female', 'Male', np.nan, 'Male', 'Female']\n",
    "}\n",
    "\n",
    "df = pd.DataFrame(data)"
   ]
  },
  {
   "cell_type": "code",
   "execution_count": 6,
   "id": "e1fb925c",
   "metadata": {},
   "outputs": [
    {
     "name": "stdout",
     "output_type": "stream",
     "text": [
      "Original DataFrame:\n",
      "      Name   Age    Salary  Gender\n",
      "0    Alice  25.0   50000.0  Female\n",
      "1      Bob   NaN   60000.0    Male\n",
      "2  Charlie  35.0       NaN     NaN\n",
      "3    David  45.0   80000.0    Male\n",
      "4   Edward   NaN  120000.0  Female\n"
     ]
    }
   ],
   "source": [
    "# Display the DataFrame with missing values\n",
    "print(\"Original DataFrame:\")\n",
    "print(df)\n",
    "\n",
    "\n"
   ]
  },
  {
   "cell_type": "code",
   "execution_count": 7,
   "id": "382bde1f",
   "metadata": {},
   "outputs": [
    {
     "name": "stdout",
     "output_type": "stream",
     "text": [
      "\n",
      "Checking for Missing Values:\n",
      "Name      0\n",
      "Age       2\n",
      "Salary    1\n",
      "Gender    1\n",
      "dtype: int64\n"
     ]
    }
   ],
   "source": [
    "\n",
    "\n",
    "# 1. Identifying Missing Values\n",
    "print(\"\\nChecking for Missing Values:\")\n",
    "print(df.isnull().sum())"
   ]
  },
  {
   "cell_type": "code",
   "execution_count": 8,
   "id": "67a8dae0",
   "metadata": {},
   "outputs": [
    {
     "name": "stdout",
     "output_type": "stream",
     "text": [
      "\n",
      "DataFrame after dropping rows with missing values:\n",
      "    Name   Age   Salary  Gender\n",
      "0  Alice  25.0  50000.0  Female\n",
      "3  David  45.0  80000.0    Male\n"
     ]
    }
   ],
   "source": [
    "\n",
    "# 2. Handling Missing Values\n",
    "\n",
    "# 2.1 Dropping rows with missing values\n",
    "df_dropna = df.dropna()\n",
    "print(\"\\nDataFrame after dropping rows with missing values:\")\n",
    "print(df_dropna)"
   ]
  },
  {
   "cell_type": "code",
   "execution_count": 9,
   "id": "6dc3552b",
   "metadata": {},
   "outputs": [
    {
     "name": "stdout",
     "output_type": "stream",
     "text": [
      "\n",
      "DataFrame after filling missing values with 0:\n",
      "      Name   Age    Salary  Gender\n",
      "0    Alice  25.0   50000.0  Female\n",
      "1      Bob   0.0   60000.0    Male\n",
      "2  Charlie  35.0       0.0       0\n",
      "3    David  45.0   80000.0    Male\n",
      "4   Edward   0.0  120000.0  Female\n"
     ]
    }
   ],
   "source": [
    "\n",
    "# 2.2 Filling missing values with a specific value (e.g., 0)\n",
    "df_fill_0 = df.fillna(0)\n",
    "print(\"\\nDataFrame after filling missing values with 0:\")\n",
    "print(df_fill_0)"
   ]
  },
  {
   "cell_type": "code",
   "execution_count": 10,
   "id": "e63d21f1",
   "metadata": {},
   "outputs": [
    {
     "name": "stdout",
     "output_type": "stream",
     "text": [
      "\n",
      "DataFrame after filling missing values with mean:\n",
      "      Name   Age    Salary  Gender\n",
      "0    Alice  25.0   50000.0  Female\n",
      "1      Bob  35.0   60000.0    Male\n",
      "2  Charlie  35.0   77500.0     NaN\n",
      "3    David  45.0   80000.0    Male\n",
      "4   Edward  35.0  120000.0  Female\n"
     ]
    }
   ],
   "source": [
    "\n",
    "\n",
    "\n",
    "# 2.3 Filling missing values with the mean of the column\n",
    "df['Age'] = df['Age'].fillna(df['Age'].mean())\n",
    "df['Salary'] = df['Salary'].fillna(df['Salary'].mean())\n",
    "print(\"\\nDataFrame after filling missing values with mean:\")\n",
    "print(df)"
   ]
  },
  {
   "cell_type": "code",
   "execution_count": 11,
   "id": "5d8fc644",
   "metadata": {},
   "outputs": [
    {
     "name": "stdout",
     "output_type": "stream",
     "text": [
      "\n",
      "DataFrame after filling missing values with mode for categorical column:\n",
      "      Name   Age    Salary  Gender\n",
      "0    Alice  25.0   50000.0  Female\n",
      "1      Bob  35.0   60000.0    Male\n",
      "2  Charlie  35.0   77500.0  Female\n",
      "3    David  45.0   80000.0    Male\n",
      "4   Edward  35.0  120000.0  Female\n"
     ]
    }
   ],
   "source": [
    "\n",
    "# 2.4 Filling missing values with the mode (for categorical data)\n",
    "df['Gender'] = df['Gender'].fillna(df['Gender'].mode()[0])\n",
    "print(\"\\nDataFrame after filling missing values with mode for categorical column:\")\n",
    "print(df)        "
   ]
  },
  {
   "cell_type": "code",
   "execution_count": 12,
   "id": "f593b49a",
   "metadata": {},
   "outputs": [
    {
     "name": "stdout",
     "output_type": "stream",
     "text": [
      "\n",
      "Final DataFrame after handling all missing values:\n",
      "      Name   Age    Salary  Gender\n",
      "0    Alice  25.0   50000.0  Female\n",
      "1      Bob  35.0   60000.0    Male\n",
      "2  Charlie  35.0   77500.0  Female\n",
      "3    David  45.0   80000.0    Male\n",
      "4   Edward  35.0  120000.0  Female\n"
     ]
    }
   ],
   "source": [
    "\n",
    "\n",
    "# 3. Summary of missing values handling\n",
    "print(\"\\nFinal DataFrame after handling all missing values:\")\n",
    "print(df)"
   ]
  },
  {
   "cell_type": "code",
   "execution_count": null,
   "id": "3f0a8745",
   "metadata": {},
   "outputs": [],
   "source": []
  },
  {
   "cell_type": "code",
   "execution_count": 6,
   "id": "4af3907e",
   "metadata": {},
   "outputs": [
    {
     "name": "stdout",
     "output_type": "stream",
     "text": [
      "Original DataFrame:\n",
      "      Name  Gender  Country\n",
      "0    Alice  Female      USA\n",
      "1      Bob    Male       UK\n",
      "2  Charlie    Male  Germany\n",
      "3    David    Male   France\n",
      "4   Edward  Female      USA\n",
      "\n",
      "DataFrame after Label Encoding for 'Gender':\n",
      "      Name  Gender  Country  Gender_LabelEncoded\n",
      "0    Alice  Female      USA                    0\n",
      "1      Bob    Male       UK                    1\n",
      "2  Charlie    Male  Germany                    1\n",
      "3    David    Male   France                    1\n",
      "4   Edward  Female      USA                    0\n",
      "\n",
      "DataFrame after One-Hot Encoding for 'Country':\n",
      "      Name  Gender  Country  Gender_LabelEncoded  Country_France  \\\n",
      "0    Alice  Female      USA                    0             0.0   \n",
      "1      Bob    Male       UK                    1             0.0   \n",
      "2  Charlie    Male  Germany                    1             0.0   \n",
      "3    David    Male   France                    1             1.0   \n",
      "4   Edward  Female      USA                    0             0.0   \n",
      "\n",
      "   Country_Germany  Country_UK  Country_USA  \n",
      "0              0.0         0.0          1.0  \n",
      "1              0.0         1.0          0.0  \n",
      "2              1.0         0.0          0.0  \n",
      "3              0.0         0.0          0.0  \n",
      "4              0.0         0.0          1.0  \n"
     ]
    }
   ],
   "source": [
    "\"\"\" In Jupyter, you can use LabelEncoder and OneHotEncoder from sklearn.preprocessing to transform \n",
    "  categorical data into numerical format. Below is the Python code that demonstrates how to apply \n",
    "  Label Encoding and One-Hot Encoding using a sample dataset.\n",
    "\n",
    "Explanation:\n",
    "Label Encoding: Converts each category into a numeric value. For instance, 'Male' could be encoded\n",
    "as 0, and 'Female' as 1.\n",
    "One-Hot Encoding: Creates binary columns for each category. For example, 'Male' and 'Female' \n",
    "would become two separate columns with binary values (0 or 1).\"\"\"\n",
    "\n",
    "# Import necessary libraries\n",
    "import pandas as pd\n",
    "from sklearn.preprocessing import LabelEncoder, OneHotEncoder\n",
    "# Sample DataFrame with categorical data\n",
    "data = {\n",
    "    'Name': ['Alice', 'Bob', 'Charlie', 'David', 'Edward'],\n",
    "    'Gender': ['Female', 'Male', 'Male', 'Male', 'Female'],\n",
    "    'Country': ['USA', 'UK', 'Germany', 'France', 'USA']\n",
    "}\n",
    "df = pd.DataFrame(data)\n",
    "print(\"Original DataFrame:\")\n",
    "print(df)\n",
    "# 1. Label Encoding\n",
    "# Label Encoding for Gender column\n",
    "label_encoder = LabelEncoder()\n",
    "df['Gender_LabelEncoded'] = label_encoder.fit_transform(df['Gender'])\n",
    "print(\"\\nDataFrame after Label Encoding for 'Gender':\")\n",
    "print(df)\n",
    "\n",
    "# 2. One-Hot Encoding\n",
    "# One-Hot Encoding for Country column\n",
    "one_hot_encoder = OneHotEncoder(sparse_output=False)  # Set sparse=False to return a dense array\n",
    "#even though most of the values are 0, they are still stored in memory and shown when you print the array.\n",
    "#sparse array only store the non-zero elements and their positions.\n",
    "one_hot_encoded = one_hot_encoder.fit_transform(df[['Country']]) \n",
    "#sparse array is an array where most of the elements are zero\n",
    "\n",
    "# Convert the array back to a DataFrame for better visualization\n",
    "one_hot_df = pd.DataFrame(one_hot_encoded, columns=\n",
    "one_hot_encoder.get_feature_names_out(['Country']))\n",
    "#convert array into dataframe ,taken values from  names from country\n",
    "df = pd.concat([df, one_hot_df], axis=1)\n",
    "\n",
    "#axis=1: This means concatenate along the columns (side by side)\n",
    "#. If axis=0 were used, it would concatenate along the rows (stacking vertically).\n",
    "\n",
    "print(\"\\nDataFrame after One-Hot Encoding for 'Country':\")\n",
    "print(df)\n",
    "\n",
    "\n"
   ]
  },
  {
   "cell_type": "code",
   "execution_count": null,
   "id": "3f12086c",
   "metadata": {},
   "outputs": [],
   "source": [
    "\n"
   ]
  },
  {
   "cell_type": "code",
   "execution_count": null,
   "id": "93f722e1",
   "metadata": {},
   "outputs": [],
   "source": []
  },
  {
   "cell_type": "code",
   "execution_count": 11,
   "id": "de965001",
   "metadata": {},
   "outputs": [
    {
     "name": "stdout",
     "output_type": "stream",
     "text": [
      "Original feature set shape: (105, 4)\n",
      "Selected feature set shape after feature selection: (105, 2)\n"
     ]
    }
   ],
   "source": [
    "# Import necessary libraries\n",
    "import pandas as pd\n",
    "from sklearn.model_selection import train_test_split\n",
    "from sklearn.preprocessing import StandardScaler, MinMaxScaler\n",
    "from sklearn.feature_selection import SelectKBest, f_classif\n",
    "from sklearn.datasets import load_iris\n",
    "\n",
    "# Load dataset (Iris dataset for this example)\n",
    "data = load_iris()\n",
    "X = pd.DataFrame(data.data, columns=data.feature_names)\n",
    "y = pd.Series(data.target)\n",
    "\n",
    "# Splitting data into train and test sets\n",
    "X_train, X_test, y_train, y_test = train_test_split(X, y, test_size=0.3,random_state=42)\n",
    "#random_state= 42 means seed value for random number generator , \n",
    "#Every time you run the code, you'll get the same train-test split if you use the same random_state.\n",
    "# FEATURE SCALING\n",
    "# Standard Scaler (Z-score normalization)\n",
    "standard_scaler = StandardScaler()\n",
    "X_train_standard_scaled = standard_scaler.fit_transform(X_train)\n",
    "X_test_standard_scaled = standard_scaler.transform(X_test)\n",
    "# Showing results\n",
    "print(\"Original feature set shape:\", X_train.shape)\n",
    "print(\"Selected feature set shape after feature selection:\", X_train_selected.shape)\n",
    "\n",
    "\n"
   ]
  },
  {
   "cell_type": "code",
   "execution_count": 8,
   "id": "93dac6cf",
   "metadata": {},
   "outputs": [
    {
     "name": "stdout",
     "output_type": "stream",
     "text": [
      "Original feature set shape: (105, 4)\n",
      "Selected feature set shape after feature selection: (105, 2)\n",
      "Selected feature indices: [2 3]\n"
     ]
    }
   ],
   "source": [
    "# Min-Max Scaler (Scaling data between 0 and 1)\n",
    "minmax_scaler = MinMaxScaler()\n",
    "X_train_minmax_scaled = minmax_scaler.fit_transform(X_train)\n",
    "X_test_minmax_scaled = minmax_scaler.transform(X_test)\n",
    "\n",
    "# FEATURE SELECTION\n",
    "\n",
    "# Using SelectKBest for feature selection (keeping top 2 features)\n",
    "selector = SelectKBest(score_func=f_classif, k=2)\n",
    "X_train_selected = selector.fit_transform(X_train_standard_scaled, y_train)\n",
    "X_test_selected = selector.transform(X_test_standard_scaled)\n",
    "\n",
    "# Showing results\n",
    "print(\"Original feature set shape:\", X_train.shape)\n",
    "print(\"Selected feature set shape after feature selection:\", X_train_selected.shape)\n",
    "\n",
    "# You can also check which features were selected:\n",
    "selected_features = selector.get_support(indices=True)\n",
    "print(\"Selected feature indices:\", selected_features)"
   ]
  },
  {
   "cell_type": "code",
   "execution_count": null,
   "id": "f19725a5",
   "metadata": {},
   "outputs": [],
   "source": []
  },
  {
   "cell_type": "code",
   "execution_count": 1,
   "id": "6330a23c",
   "metadata": {},
   "outputs": [
    {
     "data": {
      "text/plain": [
       "'C:\\\\Users\\\\shalini singh'"
      ]
     },
     "execution_count": 1,
     "metadata": {},
     "output_type": "execute_result"
    }
   ],
   "source": [
    "pwd"
   ]
  },
  {
   "cell_type": "code",
   "execution_count": null,
   "id": "39d6106a",
   "metadata": {},
   "outputs": [],
   "source": []
  }
 ],
 "metadata": {
  "kernelspec": {
   "display_name": "Python 3 (ipykernel)",
   "language": "python",
   "name": "python3"
  },
  "language_info": {
   "codemirror_mode": {
    "name": "ipython",
    "version": 3
   },
   "file_extension": ".py",
   "mimetype": "text/x-python",
   "name": "python",
   "nbconvert_exporter": "python",
   "pygments_lexer": "ipython3",
   "version": "3.12.7"
  }
 },
 "nbformat": 4,
 "nbformat_minor": 5
}
