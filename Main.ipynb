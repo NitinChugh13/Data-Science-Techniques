{
 "cells": [
  {
   "cell_type": "code",
   "execution_count": 1,
   "id": "69fddb37",
   "metadata": {},
   "outputs": [
    {
     "name": "stdout",
     "output_type": "stream",
     "text": [
      "      Name   Age    salary  Gender\n",
      "0    Alice  25.0   50000.0  Female\n",
      "1      Bob   NaN   60000.0    Male\n",
      "2  Charlie  35.0       NaN     NaN\n",
      "3    David  45.0   80000.0    Male\n",
      "4   Edward   NaN  120000.0  Female\n"
     ]
    }
   ],
   "source": [
    "import pandas as pd \n",
    "import numpy as np\n",
    "#sample dataframe with missing values\n",
    "data = {\n",
    "    'Name' : ['Alice','Bob','Charlie','David','Edward'],\n",
    "    'Age' : [25,np.nan,35,45,np.nan],\n",
    "    'salary': [50000,60000,np.nan,80000,120000],\n",
    "    'Gender':['Female','Male',np.nan,'Male','Female']\n",
    "}\n",
    "df = pd.DataFrame(data)\n",
    "print(df)"
   ]
  },
  {
   "cell_type": "code",
   "execution_count": 2,
   "id": "ac4abc71",
   "metadata": {},
   "outputs": [
    {
     "name": "stdout",
     "output_type": "stream",
     "text": [
      "\n",
      "Checking for missing values:\n",
      "Name      0\n",
      "Age       2\n",
      "salary    1\n",
      "Gender    1\n",
      "dtype: int64\n"
     ]
    }
   ],
   "source": [
    "#Identifying Missing Values\n",
    "print(\"\\nChecking for missing values:\")\n",
    "print(df.isnull().sum())"
   ]
  },
  {
   "cell_type": "code",
   "execution_count": 3,
   "id": "c2bbbf67",
   "metadata": {},
   "outputs": [
    {
     "name": "stdout",
     "output_type": "stream",
     "text": [
      "\n",
      "DataFrame after dropping rows with missing values:\n",
      "    Name   Age   salary  Gender\n",
      "0  Alice  25.0  50000.0  Female\n",
      "3  David  45.0  80000.0    Male\n"
     ]
    }
   ],
   "source": [
    "#Handling Missing Values \n",
    "#2.1 Dropping rows with missing values\n",
    "df_dropna = df.dropna()\n",
    "print(\"\\nDataFrame after dropping rows with missing values:\")\n",
    "print(df_dropna)"
   ]
  },
  {
   "cell_type": "code",
   "execution_count": 4,
   "id": "99cb2f61",
   "metadata": {},
   "outputs": [
    {
     "name": "stdout",
     "output_type": "stream",
     "text": [
      "\n",
      "DataFrameafter filling missing values with 0:\n",
      "      Name   Age    salary  Gender\n",
      "0    Alice  25.0   50000.0  Female\n",
      "1      Bob   0.0   60000.0    Male\n",
      "2  Charlie  35.0       0.0       0\n",
      "3    David  45.0   80000.0    Male\n",
      "4   Edward   0.0  120000.0  Female\n"
     ]
    }
   ],
   "source": [
    "#2.2 Filling Missing values with a specific value( ex: 0)\n",
    "df_fill_0 =df.fillna(0)\n",
    "print(\"\\nDataFrameafter filling missing values with 0:\")\n",
    "print(df_fill_0) "
   ]
  },
  {
   "cell_type": "code",
   "execution_count": 5,
   "id": "b84a9eab",
   "metadata": {},
   "outputs": [
    {
     "name": "stdout",
     "output_type": "stream",
     "text": [
      "\n",
      "DataFrame after filling the values with mean:\n",
      "      Name   Age   salary  Gender\n",
      "0    Alice  35.0  77500.0  Female\n",
      "1      Bob  35.0  77500.0    Male\n",
      "2  Charlie  35.0  77500.0     NaN\n",
      "3    David  35.0  77500.0    Male\n",
      "4   Edward  35.0  77500.0  Female\n"
     ]
    }
   ],
   "source": [
    "#2.3 Filling missing values with the mean of the column\n",
    "df['Age'] = df['Age'].fillna(df['Age']).mean()\n",
    "df['salary']=df['salary'].fillna(df['salary']).mean()\n",
    "print(\"\\nDataFrame after filling the values with mean:\")\n",
    "print(df)"
   ]
  },
  {
   "cell_type": "code",
   "execution_count": 6,
   "id": "78beac49",
   "metadata": {},
   "outputs": [
    {
     "name": "stdout",
     "output_type": "stream",
     "text": [
      "\n",
      "DataFrame after filling missing values with mode for categories :\n",
      "      Name   Age   salary  Gender\n",
      "0    Alice  35.0  77500.0  Female\n",
      "1      Bob  35.0  77500.0    Male\n",
      "2  Charlie  35.0  77500.0  Female\n",
      "3    David  35.0  77500.0    Male\n",
      "4   Edward  35.0  77500.0  Female\n"
     ]
    }
   ],
   "source": [
    "#2.4 Filling missing values with mode(for categorical data)\n",
    "df['Gender']=df['Gender'].fillna(df['Gender'].mode()[0])\n",
    "print(\"\\nDataFrame after filling missing values with mode for categories :\")\n",
    "print(df)"
   ]
  },
  {
   "cell_type": "code",
   "execution_count": null,
   "id": "08a32243",
   "metadata": {},
   "outputs": [
    {
     "name": "stdout",
     "output_type": "stream",
     "text": [
      "Original DataFrame:\n",
      "      Name  Gender  Country\n",
      "0    Alice  Female      USA\n",
      "1      Bob    Male       UK\n",
      "2  Charlie    Male  Germany\n",
      "3    David    Male   France\n",
      "4   Edward  Female      USA\n",
      "\n",
      "DataFrame after Label Encoding for 'Gender':\n",
      "      Name  Gender  Country  Gender_LabelEncoded\n",
      "0    Alice  Female      USA                    0\n",
      "1      Bob    Male       UK                    1\n",
      "2  Charlie    Male  Germany                    1\n",
      "3    David    Male   France                    1\n",
      "4   Edward  Female      USA                    0\n",
      "\n",
      "DataFrame after One-Hot Encoding for 'Country':\n",
      "      Name  Gender  Country  Gender_LabelEncoded  Country_France  \\\n",
      "0    Alice  Female      USA                    0             0.0   \n",
      "1      Bob    Male       UK                    1             0.0   \n",
      "2  Charlie    Male  Germany                    1             0.0   \n",
      "3    David    Male   France                    1             1.0   \n",
      "4   Edward  Female      USA                    0             0.0   \n",
      "\n",
      "   Country_Germany  Country_UK  Country_USA  \n",
      "0              0.0         0.0          1.0  \n",
      "1              0.0         1.0          0.0  \n",
      "2              1.0         0.0          0.0  \n",
      "3              0.0         0.0          0.0  \n",
      "4              0.0         0.0          1.0  \n"
     ]
    }
   ],
   "source": [
    "\"\"\" In Jupyter, you can use LabelEncoder and OneHotEncoder from sklearn.preprocessing to transform \n",
    "  categorical data into numerical format. Below is the Python code that demonstrates how to apply \n",
    "  Label Encoding and One-Hot Encoding using a sample dataset.\n",
    "\n",
    "Explanation:\n",
    "Label Encoding: Converts each category into a numeric value. For instance, 'Male' could be encoded\n",
    "as 0, and 'Female' as 1.\n",
    "One-Hot Encoding: Creates binary columns for each category. For example, 'Male' and 'Female' \n",
    "would become two separate columns with binary values (0 or 1).\"\"\"\n",
    "\n",
    "# Import necessary libraries\n",
    "import pandas as pd\n",
    "from sklearn.preprocessing import LabelEncoder, OneHotEncoder\n",
    "# Sample DataFrame with categorical data\n",
    "data = {\n",
    "    'Name': ['Alice', 'Bob', 'Charlie', 'David', 'Edward'],\n",
    "    'Gender': ['Female', 'Male', 'Male', 'Male', 'Female'],\n",
    "    'Country': ['USA', 'UK', 'Germany', 'France', 'USA']\n",
    "}\n",
    "df = pd.DataFrame(data)\n",
    "print(\"Original DataFrame:\")\n",
    "print(df)\n",
    "# 1. Label Encoding\n",
    "# Label Encoding for Gender column\n",
    "label_encoder = LabelEncoder()\n",
    "df['Gender_LabelEncoded'] = label_encoder.fit_transform(df['Gender'])\n",
    "print(\"\\nDataFrame after Label Encoding for 'Gender':\")\n",
    "print(df)\n",
    "\n",
    "# 2. One-Hot Encoding\n",
    "# One-Hot Encoding for Country column\n",
    "one_hot_encoder = OneHotEncoder(sparse_output=False)  # Set sparse=False to return a dense array\n",
    "#even though most of the values are 0, they are still stored in memory and shown when you print the array.\n",
    "#sparse array only store the non-zero elements and their positions.\n",
    "one_hot_encoded = one_hot_encoder.fit_transform(df[['Country']]) \n",
    "#sparse array is an array where most of the elements are zero\n",
    "\n",
    "# Convert the array back to a DataFrame for better visualization\n",
    "one_hot_df = pd.DataFrame(one_hot_encoded, columns=\n",
    "one_hot_encoder.get_feature_names_out(['Country']))\n",
    "#convert array into dataframe ,taken values from  names from country\n",
    "df = pd.concat([df, one_hot_df], axis=1)\n",
    "\n",
    "#axis=1: This means concatenate along the columns (side by side)\n",
    "#. If axis=0 were used, it would concatenate along the rows (stacking vertically).\n",
    "\n",
    "print(\"\\nDataFrame after One-Hot Encoding for 'Country':\")\n",
    "print(df)"
   ]
  },
  {
   "cell_type": "code",
   "execution_count": null,
   "id": "107eb639",
   "metadata": {},
   "outputs": [
    {
     "data": {
      "text/plain": [
       "'c:\\\\Users\\\\frawa\\\\OneDrive\\\\Documents\\\\Git upload\\\\Data-Science-Techniques'"
      ]
     },
     "execution_count": 15,
     "metadata": {},
     "output_type": "execute_result"
    }
   ],
   "source": [
    "pwd "
   ]
  }
 ],
 "metadata": {
  "kernelspec": {
   "display_name": "base",
   "language": "python",
   "name": "python3"
  },
  "language_info": {
   "codemirror_mode": {
    "name": "ipython",
    "version": 3
   },
   "file_extension": ".py",
   "mimetype": "text/x-python",
   "name": "python",
   "nbconvert_exporter": "python",
   "pygments_lexer": "ipython3",
   "version": "3.12.4"
  }
 },
 "nbformat": 4,
 "nbformat_minor": 5
}
