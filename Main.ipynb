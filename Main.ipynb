{
 "cells": [
  {
   "cell_type": "code",
   "execution_count": 1,
   "id": "69fddb37",
   "metadata": {},
   "outputs": [
    {
     "name": "stdout",
     "output_type": "stream",
     "text": [
      "      Name   Age    salary  Gender\n",
      "0    Alice  25.0   50000.0  Female\n",
      "1      Bob   NaN   60000.0    Male\n",
      "2  Charlie  35.0       NaN     NaN\n",
      "3    David  45.0   80000.0    Male\n",
      "4   Edward   NaN  120000.0  Female\n"
     ]
    }
   ],
   "source": [
    "import pandas as pd \n",
    "import numpy as np\n",
    "#sample dataframe with missing values\n",
    "data = {\n",
    "    'Name' : ['Alice','Bob','Charlie','David','Edward'],\n",
    "    'Age' : [25,np.nan,35,45,np.nan],\n",
    "    'salary': [50000,60000,np.nan,80000,120000],\n",
    "    'Gender':['Female','Male',np.nan,'Male','Female']\n",
    "}\n",
    "df = pd.DataFrame(data)\n",
    "print(df)"
   ]
  },
  {
   "cell_type": "code",
   "execution_count": 2,
   "id": "ac4abc71",
   "metadata": {},
   "outputs": [
    {
     "name": "stdout",
     "output_type": "stream",
     "text": [
      "\n",
      "Checking for missing values:\n",
      "Name      0\n",
      "Age       2\n",
      "salary    1\n",
      "Gender    1\n",
      "dtype: int64\n"
     ]
    }
   ],
   "source": [
    "#Identifying Missing Values\n",
    "print(\"\\nChecking for missing values:\")\n",
    "print(df.isnull().sum())"
   ]
  },
  {
   "cell_type": "code",
   "execution_count": 3,
   "id": "c2bbbf67",
   "metadata": {},
   "outputs": [
    {
     "name": "stdout",
     "output_type": "stream",
     "text": [
      "\n",
      "DataFrame after dropping rows with missing values:\n",
      "    Name   Age   salary  Gender\n",
      "0  Alice  25.0  50000.0  Female\n",
      "3  David  45.0  80000.0    Male\n"
     ]
    }
   ],
   "source": [
    "#Handling Missing Values \n",
    "#2.1 Dropping rows with missing values\n",
    "df_dropna = df.dropna()\n",
    "print(\"\\nDataFrame after dropping rows with missing values:\")\n",
    "print(df_dropna)"
   ]
  },
  {
   "cell_type": "code",
   "execution_count": 4,
   "id": "99cb2f61",
   "metadata": {},
   "outputs": [
    {
     "name": "stdout",
     "output_type": "stream",
     "text": [
      "\n",
      "DataFrameafter filling missing values with 0:\n",
      "      Name   Age    salary  Gender\n",
      "0    Alice  25.0   50000.0  Female\n",
      "1      Bob   0.0   60000.0    Male\n",
      "2  Charlie  35.0       0.0       0\n",
      "3    David  45.0   80000.0    Male\n",
      "4   Edward   0.0  120000.0  Female\n"
     ]
    }
   ],
   "source": [
    "#2.2 Filling Missing values with a specific value( ex: 0)\n",
    "df_fill_0 =df.fillna(0)\n",
    "print(\"\\nDataFrameafter filling missing values with 0:\")\n",
    "print(df_fill_0) "
   ]
  },
  {
   "cell_type": "code",
   "execution_count": 5,
   "id": "b84a9eab",
   "metadata": {},
   "outputs": [
    {
     "name": "stdout",
     "output_type": "stream",
     "text": [
      "\n",
      "DataFrame after filling the values with mean:\n",
      "      Name   Age   salary  Gender\n",
      "0    Alice  35.0  77500.0  Female\n",
      "1      Bob  35.0  77500.0    Male\n",
      "2  Charlie  35.0  77500.0     NaN\n",
      "3    David  35.0  77500.0    Male\n",
      "4   Edward  35.0  77500.0  Female\n"
     ]
    }
   ],
   "source": [
    "#2.3 Filling missing values with the mean of the column\n",
    "df['Age'] = df['Age'].fillna(df['Age']).mean()\n",
    "df['salary']=df['salary'].fillna(df['salary']).mean()\n",
    "print(\"\\nDataFrame after filling the values with mean:\")\n",
    "print(df)"
   ]
  },
  {
   "cell_type": "code",
   "execution_count": 6,
   "id": "78beac49",
   "metadata": {},
   "outputs": [
    {
     "name": "stdout",
     "output_type": "stream",
     "text": [
      "\n",
      "DataFrame after filling missing values with mode for categories :\n",
      "      Name   Age   salary  Gender\n",
      "0    Alice  35.0  77500.0  Female\n",
      "1      Bob  35.0  77500.0    Male\n",
      "2  Charlie  35.0  77500.0  Female\n",
      "3    David  35.0  77500.0    Male\n",
      "4   Edward  35.0  77500.0  Female\n"
     ]
    }
   ],
   "source": [
    "#2.4 Filling missing values with mode(for categorical data)\n",
    "df['Gender']=df['Gender'].fillna(df['Gender'].mode()[0])\n",
    "print(\"\\nDataFrame after filling missing values with mode for categories :\")\n",
    "print(df)"
   ]
  }
 ],
 "metadata": {
  "kernelspec": {
   "display_name": "base",
   "language": "python",
   "name": "python3"
  },
  "language_info": {
   "codemirror_mode": {
    "name": "ipython",
    "version": 3
   },
   "file_extension": ".py",
   "mimetype": "text/x-python",
   "name": "python",
   "nbconvert_exporter": "python",
   "pygments_lexer": "ipython3",
   "version": "3.12.4"
  }
 },
 "nbformat": 4,
 "nbformat_minor": 5
}
